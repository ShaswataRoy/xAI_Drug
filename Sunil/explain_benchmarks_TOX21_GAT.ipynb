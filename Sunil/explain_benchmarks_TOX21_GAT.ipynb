{
 "cells": [
  {
   "cell_type": "code",
   "execution_count": null,
   "id": "d9438cf1",
   "metadata": {},
   "outputs": [],
   "source": [
    "\"\"\"\n",
    "explain_benchmarks.py"
   ]
  },
  {
   "cell_type": "code",
   "execution_count": null,
   "id": "06baf34d",
   "metadata": {},
   "outputs": [],
   "source": [
    "This script computes sparsity and fidelity benchmarks for GNN models\n",
    "trained on molecular datasets like TOX21 using PyTorch Geometric.\n",
    "It supports GNNExplainer and Integrated Gradients (Captum)."
   ]
  },
  {
   "cell_type": "code",
   "execution_count": null,
   "id": "c866e638",
   "metadata": {},
   "outputs": [],
   "source": [
    "\"\"\""
   ]
  },
  {
   "cell_type": "code",
   "execution_count": null,
   "id": "7ab7f82e",
   "metadata": {},
   "outputs": [],
   "source": [
    "import torch\n",
    "import torch.nn.functional as F\n",
    "from torch_geometric.explain import GNNExplainer\n",
    "from captum.attr import IntegratedGradients\n",
    "from torch_geometric.data import DataLoader\n",
    "import matplotlib.pyplot as plt\n",
    "import pandas as pd\n",
    "import os"
   ]
  },
  {
   "cell_type": "code",
   "execution_count": null,
   "id": "51964603",
   "metadata": {},
   "outputs": [],
   "source": [
    "# === Original load_model (commented out) ===\n",
    "# def load_model(model_path):\n",
    "#     \"\"\"Load a trained PyTorch model\"\"\"\n",
    "#     model = torch.load(model_path)\n",
    "#     model.eval()\n",
    "#     return model\n",
    "\n",
    "# === Revised functions for TOX21_GAT ===\n",
    "def load_model(model_path, device):\n",
    "    from models.gat import GAT  # Adjust path if needed\n",
    "    model = GAT(in_channels=75, hidden_channels=128, out_channels=12, num_heads=4, dropout=0.25)\n",
    "    model.load_state_dict(torch.load(model_path, map_location=device))\n",
    "    model.to(device)\n",
    "    model.eval()\n",
    "    return model"
   ]
  },
  {
   "cell_type": "code",
   "execution_count": null,
   "id": "0af9df7b",
   "metadata": {},
   "outputs": [],
   "source": [
    "# === Original load_data (commented out) ===\n",
    "# def load_data(dataset_name, batch_size=32):\n",
    "#     \"\"\"Load dataset (placeholder)\"\"\"\n",
    "#     from torch_geometric.datasets import Tox21\n",
    "#     dataset = Tox21(root='./data', task=dataset_name)\n",
    "#     return DataLoader(dataset, batch_size=batch_size, shuffle=False)\n",
    "\n",
    "def load_data(split='test', batch_size=128):\n",
    "    from dataset import Tox21Dataset\n",
    "    from torch_geometric.loader import DataLoader\n",
    "    dataset = Tox21Dataset(split)\n",
    "    loader = DataLoader(dataset, batch_size=batch_size, shuffle=False)\n",
    "    return loader"
   ]
  }
 ],
 "metadata": {},
 "nbformat": 4,
 "nbformat_minor": 5
}
